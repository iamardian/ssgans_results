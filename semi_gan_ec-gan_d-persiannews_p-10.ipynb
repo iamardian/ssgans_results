{
  "nbformat": 4,
  "nbformat_minor": 0,
  "metadata": {
    "colab": {
      "name": "semi_gan.ipynb",
      "provenance": [],
      "collapsed_sections": [],
      "include_colab_link": true
    },
    "kernelspec": {
      "name": "python3",
      "display_name": "Python 3"
    },
    "language_info": {
      "name": "python"
    },
    "accelerator": "GPU"
  },
  "cells": [
    {
      "cell_type": "markdown",
      "metadata": {
        "id": "view-in-github",
        "colab_type": "text"
      },
      "source": [
        "<a href=\"https://colab.research.google.com/github/iamardian/ssgans_results/blob/main/semi_gan_ec-gan_d-persiannews_p-10.ipynb\" target=\"_parent\"><img src=\"https://colab.research.google.com/assets/colab-badge.svg\" alt=\"Open In Colab\"/></a>"
      ]
    },
    {
      "cell_type": "code",
      "execution_count": 1,
      "metadata": {
        "id": "kVzghhQznhMw",
        "colab": {
          "base_uri": "https://localhost:8080/"
        },
        "outputId": "dbb94a34-d91e-4aef-ef74-ce15b5a2d39f"
      },
      "outputs": [
        {
          "output_type": "stream",
          "name": "stdout",
          "text": [
            "(30) train_accuracy : 27.083333333333332\n",
            "  Batch    30  of     42.    Elapsed: 0:00:40.\n",
            "(40) train_accuracy : 28.90625\n",
            "  Batch    40  of     42.    Elapsed: 0:00:54.\n",
            "Epoch 61 Complete\n",
            "    epoch        acc\n",
            "0       1  50.729927\n",
            "1       2  92.457421\n",
            "2       3  90.693431\n",
            "3       4  89.720195\n",
            "4       5  91.545012\n",
            "5       6  90.206813\n",
            "6       7  91.909976\n",
            "7       8  80.413625\n",
            "8       9  84.124088\n",
            "9      10  87.895377\n",
            "10     11  66.301703\n",
            "11     12  77.372263\n",
            "12     13  75.243309\n",
            "13     14  77.980535\n",
            "14     15  66.180049\n",
            "15     16  46.715328\n",
            "16     17  61.374696\n",
            "17     18  68.734793\n",
            "18     19  59.914842\n",
            "19     20  60.705596\n",
            "20     21  61.982968\n",
            "21     22  73.114355\n",
            "22     23  80.656934\n",
            "23     24  62.226277\n",
            "24     25  34.732360\n",
            "25     26  36.374696\n",
            "26     27  48.236010\n",
            "27     28  61.618005\n",
            "28     29  53.892944\n",
            "29     30  70.072993\n",
            "30     31  62.104623\n",
            "31     32  71.654501\n",
            "32     33  72.566910\n",
            "33     34  62.712895\n",
            "34     35  25.304136\n",
            "35     36  26.703163\n",
            "36     37  26.459854\n",
            "37     38  26.459854\n",
            "38     39  26.459854\n",
            "39     40  24.452555\n",
            "40     41  26.155718\n",
            "41     42  23.783455\n",
            "42     43  23.783455\n",
            "43     44  26.155718\n",
            "44     45  26.155718\n",
            "45     46  22.506083\n",
            "46     47  22.506083\n",
            "47     48  24.391727\n",
            "48     49  24.391727\n",
            "49     50  24.391727\n",
            "50     51  24.391727\n",
            "51     52  23.783455\n",
            "52     53  24.391727\n",
            "53     54  26.155718\n",
            "54     55  26.155718\n",
            "55     56  26.155718\n",
            "56     57  25.851582\n",
            "57     58  25.851582\n",
            "58     59  25.851582\n",
            "59     60  25.851582\n",
            "60     61  24.087591\n",
            "396 / 1644 * 100 = 24.087591240875913 \n",
            "\n",
            "======== Epoch 62 / 100 ========\n",
            "Training...\n",
            "./semi_supervised_learning_with_gan/ecgan_parsbert.py:348: UserWarning: Implicit dimension choice for softmax has been deprecated. Change the call to include dim=X as an argument.\n",
            "  output = self.softmax(logits)\n",
            "(10) train_accuracy : 31.25\n",
            "  Batch    10  of     42.    Elapsed: 0:00:13.\n",
            "Traceback (most recent call last):\n",
            "  File \"./semi_supervised_learning_with_gan/ecgan_parsbert.py\", line 561, in <module>\n",
            "    train(train_dataloader)\n",
            "  File \"./semi_supervised_learning_with_gan/ecgan_parsbert.py\", line 487, in train\n",
            "    realClassifierLoss.backward(retain_graph = True)\n",
            "  File \"/usr/local/lib/python3.7/dist-packages/torch/_tensor.py\", line 363, in backward\n",
            "    torch.autograd.backward(self, gradient, retain_graph, create_graph, inputs=inputs)\n",
            "  File \"/usr/local/lib/python3.7/dist-packages/torch/autograd/__init__.py\", line 175, in backward\n",
            "    allow_unreachable=True, accumulate_grad=True)  # Calls into the C++ engine to run the backward pass\n",
            "KeyboardInterrupt\n"
          ]
        }
      ],
      "source": [
        "!pip install transformers==4.3.2\n",
        "!rm -r ./semi_supervised_learning_with_gan ;git clone https://github.com/iamardian/semi_supervised_learning_with_gan.git\n",
        "# !python ./semi_supervised_learning_with_gan/ssgan_parsbert.py -d persiannews -p 0.2\n",
        "!python ./semi_supervised_learning_with_gan/ecgan_parsbert.py -d persiannews -p 0.1"
      ]
    },
    {
      "cell_type": "code",
      "source": [
        ""
      ],
      "metadata": {
        "id": "MxznXs1WoSc-"
      },
      "execution_count": 1,
      "outputs": []
    }
  ]
}